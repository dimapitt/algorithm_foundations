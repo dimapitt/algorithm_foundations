{
 "cells": [
  {
   "cell_type": "code",
   "execution_count": 11,
   "metadata": {},
   "outputs": [
    {
     "name": "stdout",
     "output_type": "stream",
     "text": [
      "# of operations: 42165.0\n",
      "\n",
      "Index to 'split' multiplication vector with paranthesese: [2, 3, 4, 5, 6, 7, 8, 9, 10, 11, 12, 13, 14, 15, 16, 17, 18, 19, 20, 21, 22, 23, 24, 25, 26, 27, 28, 0, 1]\n",
      "\n"
     ]
    }
   ],
   "source": [
    "import numpy as np  # Used to make a matrix type\n",
    "array = [10,5,16,9,17,12,14,13,8,25,15,30,12,16,9,14,25,30,19,16,24,17,18,29,11,16,14,21,11,33,10]; \n",
    "L = len(array)\n",
    "count_mat = np.zeros([L-1,L-1])\n",
    "k_mat = np.zeros([L-1,L-1],dtype=object)\n",
    "\n",
    "for i in range(0,L-1):\n",
    "    for j in range(0,L-1):\n",
    "        k_mat[i,j] = []\n",
    "\n",
    "count_mat.shape\n",
    "\n",
    "count_mat[0,0]\n",
    "\n",
    "# Go through the number of matrices - 1 diagonals (i.e., len(array)-2)\n",
    "\n",
    "# Variables\n",
    "#\n",
    "# i = row index\n",
    "# j = column index\n",
    "# k = matrix parenthesis index\n",
    "#\n",
    "# d = diagonal index (i.e., chain length)\n",
    "#\n",
    "\n",
    "for d in range(1,L-1):\n",
    "    for i in range(0,L-d-1):\n",
    "        min_val = 100000000000000000000\n",
    "        j = i+d\n",
    "        for k in range(i,j):  # go through all matrix paren index for a row\n",
    "            c_val = count_mat[i,k]+count_mat[k+1,j]+array[i-1]*array[k]*array[j]\n",
    "            if c_val<min_val:\n",
    "                min_val = c_val\n",
    "                min_k = k_mat[k+1,j]+k_mat[i,k]+[k]\n",
    "        k_mat[i,j] = min_k\n",
    "        count_mat[i,j] = min_val\n",
    "        \n",
    "print(\"# of operations: \"+repr(count_mat[0,L-2]))\n",
    "print(\"\")\n",
    "print(\"Index to 'split' multiplication vector with paranthesese: \"+repr(k_mat[0,L-2]))\n",
    "print(\"\")"
   ]
  },
  {
   "cell_type": "markdown",
   "metadata": {},
   "source": [
    "Given our split index, our optimal matrix parenthesization is:\n",
    "\n",
    "$((x_1(x_2))(x_3(x_4(x_5(x_6(x_7(x_8(x_9(x_{10}(x_{11}(x_{12}(x_{13}(x_{14}(x_{15}(x_{16}(x_{17}(x_{18}(x_{19}(x_{20}(x_{21}(x_{22}(x_{23}(x_{24}(x_{25}(x_{26}(x_{27}(x_{28}(x_{29}(x_{30})))))))))))))))))))))))))))))$\n",
    "\n",
    "The number of operations required for the multiplication is: 42165"
   ]
  }
 ],
 "metadata": {
  "kernelspec": {
   "display_name": "Python 3",
   "language": "python",
   "name": "python3"
  },
  "language_info": {
   "codemirror_mode": {
    "name": "ipython",
    "version": 3
   },
   "file_extension": ".py",
   "mimetype": "text/x-python",
   "name": "python",
   "nbconvert_exporter": "python",
   "pygments_lexer": "ipython3",
   "version": "3.7.0"
  }
 },
 "nbformat": 4,
 "nbformat_minor": 2
}
